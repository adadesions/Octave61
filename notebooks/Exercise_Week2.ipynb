{
 "cells": [
  {
   "cell_type": "markdown",
   "metadata": {},
   "source": [
    "<center>\n",
    "<h1>เฉลยแบบฝึกหัด week 2</h1>\n",
    "</center>"
   ]
  },
  {
   "cell_type": "markdown",
   "metadata": {},
   "source": [
    "### 7. จงหารากของพหุนามต่อไปนี้\n",
    "\n",
    "<img src=\"./images/problem10.png\" />"
   ]
  },
  {
   "cell_type": "markdown",
   "metadata": {},
   "source": [
    "### 1.  จากเมทริกซ์ที่กำหนดให้\n",
    "\n",
    "$$A=\\begin{bmatrix}\n",
    "1 & 2 & 3 & 4 \\\\\n",
    "5 & 6 & 7 & 8 \\\\\n",
    "9 & 10 & 11 & 12 \\\\\n",
    "13 & 14 & 15 & 16 \\\\\n",
    "\\end{bmatrix}$$"
   ]
  },
  {
   "cell_type": "markdown",
   "metadata": {},
   "source": [
    "##### 1.1 จงสร้างเมทริกซ์ A ใน Matlab ด้วย 3 วิธีต่อไปนี้\n",
    "a. พิมพ์ตัวเลข 16 ตัวโดยตรงในเมทริกซ์ <br>\n",
    "b. ใช้ตัวดำเนินการ colon ในแต่ละแถวของเมทริกซ์ <br>\n",
    "c. ใช้ตัวดำเนินการ colon ในแต่ละคอลัมน์โดยใช้เครื่องหมาย transpose ร่วมด้วย"
   ]
  },
  {
   "cell_type": "code",
   "execution_count": 13,
   "metadata": {},
   "outputs": [
    {
     "name": "stdout",
     "output_type": "stream",
     "text": [
      "A1 =\n",
      "\n",
      "    1    2    3    4\n",
      "    5    6    7    8\n",
      "    9   10   11   12\n",
      "   13   14   15   16\n",
      "\n",
      "A2 =\n",
      "\n",
      "    1    2    3    4\n",
      "    5    6    7    8\n",
      "    9   10   11   12\n",
      "   13   14   15   16\n",
      "\n",
      "A3 =\n",
      "\n",
      "    1    2    3    4\n",
      "    5    6    7    8\n",
      "    9   10   11   12\n",
      "   13   14   15   16\n",
      "\n"
     ]
    }
   ],
   "source": [
    "# a)\n",
    "A1 = [ 1 2 3 4; 5 6 7 8; 9 10 11 12; 13 14 15 16]\n",
    "# b)\n",
    "A2 = [1:4; 5:8; 9:12; 13:16]\n",
    "# c)\n",
    "A3 = [1:4:13; 2:4:14; 3:4:15; 4:4:16]'"
   ]
  },
  {
   "cell_type": "markdown",
   "metadata": {},
   "source": [
    "##### 1.2 คูณแถวที่ 2 ของเมทริกซ์ A ด้วย $\\frac{-9}{5}$ แล้วบวกแถวที่ 3 จากนั้นนำผลลัพท์กลับไปใสในแถวที่ 2\n"
   ]
  },
  {
   "cell_type": "code",
   "execution_count": 14,
   "metadata": {},
   "outputs": [
    {
     "name": "stdout",
     "output_type": "stream",
     "text": [
      "A1 =\n",
      "\n",
      "    1.00000    2.00000    3.00000    4.00000\n",
      "    0.00000   -0.80000   -1.60000   -2.40000\n",
      "    9.00000   10.00000   11.00000   12.00000\n",
      "   13.00000   14.00000   15.00000   16.00000\n",
      "\n"
     ]
    }
   ],
   "source": [
    "A1(2,:) = (-9/5)*A1(2,:) + A1(3,:)"
   ]
  },
  {
   "cell_type": "markdown",
   "metadata": {},
   "source": [
    "### 2. สร้างเมทริกซ์สามเหลี่ยมขนาด 6x6 ดังนี้\n",
    "\n",
    "$$A=\\begin{bmatrix}\n",
    "4 & -1 & 0 & \\dots & 0 \\\\\n",
    "-1 & 4 & -1 \\\\\n",
    " & \\ddots & \\ddots & \\ddots \\\\\n",
    " & & -1 & 4 & -1\\\\\n",
    " 0 & \\dots & 0 & -1 & 4\\\\\n",
    "\\end{bmatrix}_{6x6}$$"
   ]
  },
  {
   "cell_type": "code",
   "execution_count": 15,
   "metadata": {},
   "outputs": [
    {
     "name": "stdout",
     "output_type": "stream",
     "text": [
      "tri_m =\n",
      "\n",
      "   4  -1   0   0   0   0\n",
      "  -1   4  -1   0   0   0\n",
      "   0  -1   4  -1   0   0\n",
      "   0   0  -1   4  -1   0\n",
      "   0   0   0  -1   4  -1\n",
      "   0   0   0   0  -1   4\n",
      "\n"
     ]
    }
   ],
   "source": [
    "tri_m = 4*eye(6,6);\n",
    "v = [-1 -1 -1 -1 -1];\n",
    "other_diag = diag(v, 1) + diag(v, -1);\n",
    "tri_m += other_diag"
   ]
  },
  {
   "cell_type": "markdown",
   "metadata": {},
   "source": [
    "### 3. สร้างคอลัมน์เวกเตอร์\n",
    "$$x=\\begin{bmatrix} 0 & 1 & 4 & 9 & 16 & \\dots & 841 & 900\\end{bmatrix}^T$$"
   ]
  },
  {
   "cell_type": "code",
   "execution_count": 16,
   "metadata": {},
   "outputs": [
    {
     "name": "stdout",
     "output_type": "stream",
     "text": [
      "ans =\n",
      "\n",
      "     0\n",
      "     1\n",
      "     4\n",
      "     9\n",
      "    16\n",
      "    25\n",
      "    36\n",
      "    49\n",
      "    64\n",
      "    81\n",
      "   100\n",
      "   121\n",
      "   144\n",
      "   169\n",
      "   196\n",
      "   225\n",
      "   256\n",
      "   289\n",
      "   324\n",
      "   361\n",
      "   400\n",
      "   441\n",
      "   484\n",
      "   529\n",
      "   576\n",
      "   625\n",
      "   676\n",
      "   729\n",
      "   784\n",
      "   841\n",
      "   900\n",
      "\n"
     ]
    }
   ],
   "source": [
    "x = [0:30].^2;\n",
    "x'"
   ]
  },
  {
   "cell_type": "markdown",
   "metadata": {},
   "source": [
    "### 4. สร้างเมทริกซ์\n",
    "\n",
    "$$A=\\begin{bmatrix}\n",
    "1 & 2 & 3 \\\\\n",
    "4 & 5 & 6 \\\\\n",
    "7 & 8 & 10\\\\\n",
    "\\end{bmatrix}$$\n",
    "\n",
    "4.1 จงสร้า่ง Matrix B ด้วย square root ของ A นั้นคือ $B^2 = A$ <br>"
   ]
  },
  {
   "cell_type": "code",
   "execution_count": 17,
   "metadata": {},
   "outputs": [
    {
     "name": "stdout",
     "output_type": "stream",
     "text": [
      "A4 =\n",
      "\n",
      "    1    2    3\n",
      "    4    5    6\n",
      "    7    8   10\n",
      "\n",
      "B =\n",
      "\n",
      "   1.0000   1.4142   1.7321\n",
      "   2.0000   2.2361   2.4495\n",
      "   2.6458   2.8284   3.1623\n",
      "\n"
     ]
    }
   ],
   "source": [
    "A4 = [1:8 10];\n",
    "A4 = reshape(A4, [3, 3])' # reshape คือ การเปลี่ยนมิติของ Matrix ไปเป็นในแบบที่เราต้องการ \n",
    "B = sqrt(A4)"
   ]
  },
  {
   "cell_type": "markdown",
   "metadata": {},
   "source": [
    "4.2 แทนสมาชิกในแนวทแยงมุมของ Matrix A ด้วย 1"
   ]
  },
  {
   "cell_type": "code",
   "execution_count": 18,
   "metadata": {},
   "outputs": [
    {
     "name": "stdout",
     "output_type": "stream",
     "text": [
      "modify_A =\n",
      "\n",
      "   1   2   3\n",
      "   4   1   6\n",
      "   7   8   1\n",
      "\n"
     ]
    }
   ],
   "source": [
    "modify_A = A4 - diag(diag(A4)) + eye(3)"
   ]
  },
  {
   "cell_type": "markdown",
   "metadata": {},
   "source": [
    "### 5. กำหนดให้\n",
    "\n",
    "$$A=\\begin{bmatrix}\n",
    "5 & 8 & 7 \\\\\n",
    "4 & 2 & 6 \\\\\n",
    "9 & 8 & 9\\\\\n",
    "\\end{bmatrix}\\hspace{10mm}\n",
    "B=\\begin{bmatrix}\n",
    "-1 & 2 & -3 \\\\\n",
    "2 & -4 & 5 \\\\\n",
    "2 & 3 & 1\\\\\n",
    "\\end{bmatrix}\\hspace{10mm}\n",
    "C=\\begin{bmatrix}\n",
    "3 & 1 & 2 \\\\\n",
    "-1 & 2 & 1 \\\\\n",
    "-2 & -1 & 1\\\\\n",
    "\\end{bmatrix}$$\n",
    "<br>\n",
    "$$\\hspace{10mm}\n",
    "D=\\begin{bmatrix}\n",
    "1 & 2 & 3\n",
    "\\end{bmatrix}\\hspace{10mm}\n",
    "E=\\begin{bmatrix}\n",
    "-2\\\\\n",
    "0\\\\\n",
    "-2\\\\\n",
    "\\end{bmatrix}$$"
   ]
  },
  {
   "cell_type": "code",
   "execution_count": 36,
   "metadata": {},
   "outputs": [
    {
     "name": "stdout",
     "output_type": "stream",
     "text": [
      "A5 =\n",
      "\n",
      "   5   8   7\n",
      "   4   2   6\n",
      "   9   8   9\n",
      "\n",
      "B5 =\n",
      "\n",
      "  -1   2  -3\n",
      "   2  -4   5\n",
      "   2   3   1\n",
      "\n",
      "C5 =\n",
      "\n",
      "   3   1   2\n",
      "  -1   2   1\n",
      "  -2  -1   1\n",
      "\n",
      "D5 =\n",
      "\n",
      "   1   2   3\n",
      "\n",
      "E5 =\n",
      "\n",
      "  -2\n",
      "   0\n",
      "  -2\n",
      "\n"
     ]
    }
   ],
   "source": [
    "A5 = [5 8 7; 4 2 6; 9 8 9]\n",
    "B5 = [-1 2 -3; 2 -4 5; 2 3 1]\n",
    "C5 = [3 1 2; -1 2 1; -2 -1 1]\n",
    "D5 = [1 2 3]\n",
    "E5 = [-2; 0; -2]"
   ]
  },
  {
   "cell_type": "markdown",
   "metadata": {},
   "source": [
    "#### a) A+B-C"
   ]
  },
  {
   "cell_type": "code",
   "execution_count": 21,
   "metadata": {},
   "outputs": [
    {
     "name": "stdout",
     "output_type": "stream",
     "text": [
      "result_a =\n",
      "\n",
      "    7   11    6\n",
      "    5    0   12\n",
      "    9   10   11\n",
      "\n"
     ]
    }
   ],
   "source": [
    "result_a = A5+B5+C5"
   ]
  },
  {
   "cell_type": "markdown",
   "metadata": {},
   "source": [
    "#### b) A*B+B*C"
   ]
  },
  {
   "cell_type": "code",
   "execution_count": 23,
   "metadata": {},
   "outputs": [
    {
     "name": "stdout",
     "output_type": "stream",
     "text": [
      "result_b =\n",
      "\n",
      "   26    5   29\n",
      "   12    7    9\n",
      "   26   20   30\n",
      "\n"
     ]
    }
   ],
   "source": [
    "result_b = A5*B5 + B5*C5"
   ]
  },
  {
   "cell_type": "markdown",
   "metadata": {},
   "source": [
    "#### c) (A+B)\\C"
   ]
  },
  {
   "cell_type": "code",
   "execution_count": 29,
   "metadata": {},
   "outputs": [
    {
     "name": "stdout",
     "output_type": "stream",
     "text": [
      "result_c =\n",
      "\n",
      "  -1.51508  -0.93216  -0.55276\n",
      "   0.57035   0.18342   0.24623\n",
      "   0.83920   0.72362   0.43719\n",
      "\n"
     ]
    }
   ],
   "source": [
    "result_c = (A5+B5)\\C5"
   ]
  },
  {
   "cell_type": "markdown",
   "metadata": {},
   "source": [
    "#### d) (A+B)/C"
   ]
  },
  {
   "cell_type": "code",
   "execution_count": 30,
   "metadata": {},
   "outputs": [
    {
     "name": "stdout",
     "output_type": "stream",
     "text": [
      "result_d =\n",
      "\n",
      "   1.2222   3.4444  -1.8889\n",
      "   4.1667  -1.1667   3.8333\n",
      "   4.0000   3.0000  -1.0000\n",
      "\n"
     ]
    }
   ],
   "source": [
    "result_d = (A5+B5)/C5"
   ]
  },
  {
   "cell_type": "markdown",
   "metadata": {},
   "source": [
    "#### e) (A+B)*C"
   ]
  },
  {
   "cell_type": "code",
   "execution_count": 32,
   "metadata": {},
   "outputs": [
    {
     "name": "stdout",
     "output_type": "stream",
     "text": [
      "result_e =\n",
      "\n",
      "   -6   20   22\n",
      "   -2   -9   21\n",
      "    2   23   43\n",
      "\n"
     ]
    }
   ],
   "source": [
    "result_e = (A5+B5)*C5"
   ]
  },
  {
   "cell_type": "markdown",
   "metadata": {},
   "source": [
    "#### f) D*E"
   ]
  },
  {
   "cell_type": "code",
   "execution_count": 37,
   "metadata": {},
   "outputs": [
    {
     "name": "stdout",
     "output_type": "stream",
     "text": [
      "result_f = -8\n"
     ]
    }
   ],
   "source": [
    "result_f = D5*E5"
   ]
  },
  {
   "cell_type": "markdown",
   "metadata": {},
   "source": [
    "#### g) A*E*D*C"
   ]
  },
  {
   "cell_type": "code",
   "execution_count": 38,
   "metadata": {},
   "outputs": [
    {
     "name": "stdout",
     "output_type": "stream",
     "text": [
      "result_g =\n",
      "\n",
      "   120   -48  -168\n",
      "   100   -40  -140\n",
      "   180   -72  -252\n",
      "\n"
     ]
    }
   ],
   "source": [
    "result_g = A5*E5*D5*C5"
   ]
  },
  {
   "cell_type": "markdown",
   "metadata": {},
   "source": [
    "### 6. กำหนดให้\n",
    "$$A=\\begin{bmatrix}1 & 2\\\\ 3 & 4\\\\\n",
    "\\end{bmatrix}\\hspace{10mm}\n",
    "B=\\begin{bmatrix}-1 & 2\\\\ -2 & 3\\\\\n",
    "\\end{bmatrix}\\hspace{10mm}$$\n",
    "\n",
    "จงคำนวนหาค่าต่อไปนี้"
   ]
  },
  {
   "cell_type": "code",
   "execution_count": 40,
   "metadata": {},
   "outputs": [
    {
     "name": "stdout",
     "output_type": "stream",
     "text": [
      "A6 =\n",
      "\n",
      "   1   3\n",
      "   2   4\n",
      "\n",
      "B6 =\n",
      "\n",
      "  -1   2\n",
      "  -2   3\n",
      "\n"
     ]
    }
   ],
   "source": [
    "A6 = reshape(1:4, [2,2])\n",
    "B6 = [-1 2; -2 3]"
   ]
  },
  {
   "cell_type": "markdown",
   "metadata": {},
   "source": [
    "a) 2^A"
   ]
  },
  {
   "cell_type": "code",
   "execution_count": 42,
   "metadata": {},
   "outputs": [
    {
     "name": "stdout",
     "output_type": "stream",
     "text": [
      "ans =\n",
      "\n",
      "   10.483   21.228\n",
      "   14.152   31.711\n",
      "\n"
     ]
    }
   ],
   "source": [
    "2^A6"
   ]
  },
  {
   "cell_type": "markdown",
   "metadata": {},
   "source": [
    "b) A.^2"
   ]
  },
  {
   "cell_type": "code",
   "execution_count": 43,
   "metadata": {},
   "outputs": [
    {
     "name": "stdout",
     "output_type": "stream",
     "text": [
      "ans =\n",
      "\n",
      "    1    9\n",
      "    4   16\n",
      "\n"
     ]
    }
   ],
   "source": [
    "A6.^2"
   ]
  },
  {
   "cell_type": "markdown",
   "metadata": {},
   "source": [
    "c) A.*B"
   ]
  },
  {
   "cell_type": "code",
   "execution_count": 45,
   "metadata": {},
   "outputs": [
    {
     "name": "stdout",
     "output_type": "stream",
     "text": [
      "ans =\n",
      "\n",
      "   -1    6\n",
      "   -4   12\n",
      "\n"
     ]
    }
   ],
   "source": [
    "A6.*B6"
   ]
  },
  {
   "cell_type": "markdown",
   "metadata": {},
   "source": [
    "d) A.\\B"
   ]
  },
  {
   "cell_type": "code",
   "execution_count": 47,
   "metadata": {},
   "outputs": [
    {
     "name": "stdout",
     "output_type": "stream",
     "text": [
      "ans =\n",
      "\n",
      "  -1.00000   0.66667\n",
      "  -1.00000   0.75000\n",
      "\n"
     ]
    }
   ],
   "source": [
    "A6.\\B6"
   ]
  },
  {
   "cell_type": "markdown",
   "metadata": {},
   "source": [
    "e) A./B"
   ]
  },
  {
   "cell_type": "code",
   "execution_count": 48,
   "metadata": {},
   "outputs": [
    {
     "name": "stdout",
     "output_type": "stream",
     "text": [
      "ans =\n",
      "\n",
      "  -1.0000   1.5000\n",
      "  -1.0000   1.3333\n",
      "\n"
     ]
    }
   ],
   "source": [
    "A6./B6"
   ]
  },
  {
   "cell_type": "markdown",
   "metadata": {},
   "source": [
    "### 7. จงหารากของพหุนามต่อไปนี้\n",
    "\n",
    "<img src=\"./images/problem10.png\" />"
   ]
  },
  {
   "cell_type": "code",
   "execution_count": 54,
   "metadata": {},
   "outputs": [
    {
     "name": "stdout",
     "output_type": "stream",
     "text": [
      "p1_roots =\n",
      "\n",
      "  -1 + 2i\n",
      "  -1 - 2i\n",
      "\n",
      "p2_roots =\n",
      "\n",
      "   3.21742 + 1.85643i\n",
      "   3.21742 - 1.85643i\n",
      "  -0.43484 + 0.00000i\n",
      "\n",
      "p3_roots =\n",
      "\n",
      "  -3.00000\n",
      "   3.00000\n",
      "  -2.00000\n",
      "  -1.00000\n",
      "   2.00000\n",
      "   1.00000\n",
      "   0.00000\n",
      "\n",
      "p4_roots =\n",
      "\n",
      "  -2.00000 + 3.00000i\n",
      "  -2.00000 - 3.00000i\n",
      "  -2.00000 + 0.00000i\n",
      "   2.00000 + 0.00000i\n",
      "   1.00000 + 1.00000i\n",
      "   1.00000 - 1.00000i\n",
      "   0.00000 + 0.00000i\n",
      "\n"
     ]
    }
   ],
   "source": [
    "# 7.1\n",
    "p1 = [1 2 5];\n",
    "p1_roots = roots(p1)\n",
    "\n",
    "# 7.2\n",
    "p2 = [1 -6 11 6];\n",
    "p2_roots = roots(p2)\n",
    "\n",
    "# 7.3\n",
    "p3 = [ 1 0 -14 0 49 0 -36 0];\n",
    "p3_roots = roots(p3)\n",
    "\n",
    "# 7.4\n",
    "p4 = [1 2 3 -26 -2 +72 -104 0];\n",
    "p4_roots = roots(p4)"
   ]
  },
  {
   "cell_type": "markdown",
   "metadata": {},
   "source": [
    "### 8. จงแก้ระบบสมการหาค่าตัวแปรทั้งหมด\n",
    "<img src=\"./images/problem11.png\" />"
   ]
  },
  {
   "cell_type": "code",
   "execution_count": 56,
   "metadata": {},
   "outputs": [
    {
     "name": "stdout",
     "output_type": "stream",
     "text": [
      "ans =\n",
      "\n",
      "   2\n",
      "   3\n",
      "\n"
     ]
    }
   ],
   "source": [
    "# 8.1\n",
    "A81 = [1 1; 2 -1];\n",
    "B81 = [5; 1];\n",
    "linsolve(A81, B81)"
   ]
  },
  {
   "cell_type": "code",
   "execution_count": 58,
   "metadata": {},
   "outputs": [
    {
     "name": "stdout",
     "output_type": "stream",
     "text": [
      "ans =\n",
      "\n",
      "   1.4000\n",
      "   2.6000\n",
      "\n"
     ]
    }
   ],
   "source": [
    "# 8.2 solved by inverse matrix\n",
    "A82 = [2 -3; -3 2];\n",
    "B82 = [-5; 1];\n",
    "inv(A82)*B82"
   ]
  },
  {
   "cell_type": "code",
   "execution_count": 61,
   "metadata": {},
   "outputs": [
    {
     "name": "stdout",
     "output_type": "stream",
     "text": [
      "ans =\n",
      "\n",
      "   0.25000\n",
      "   2.00000\n",
      "   3.75000\n",
      "\n"
     ]
    }
   ],
   "source": [
    "# 8.3 declared column matrix by transpose\n",
    "A83 = [1 1 1; 1 -2 1; 3 1 -1];\n",
    "B83 = [6 0 -1]';\n",
    "linsolve(A83, B83)"
   ]
  },
  {
   "cell_type": "code",
   "execution_count": 63,
   "metadata": {},
   "outputs": [
    {
     "name": "stdout",
     "output_type": "stream",
     "text": [
      "ans =\n",
      "\n",
      "   4\n",
      "   5\n",
      "   3\n",
      "\n"
     ]
    }
   ],
   "source": [
    "# 8.4\n",
    "A84 = [2 -2 1; -1 1 -1; -2 1 -1];\n",
    "B84 = [1 -2 -6]';\n",
    "linsolve(A84, B84)"
   ]
  }
 ],
 "metadata": {
  "kernelspec": {
   "display_name": "Octave",
   "language": "octave",
   "name": "octave"
  },
  "language_info": {
   "file_extension": ".m",
   "help_links": [
    {
     "text": "GNU Octave",
     "url": "https://www.gnu.org/software/octave/support.html"
    },
    {
     "text": "Octave Kernel",
     "url": "https://github.com/Calysto/octave_kernel"
    },
    {
     "text": "MetaKernel Magics",
     "url": "https://github.com/calysto/metakernel/blob/master/metakernel/magics/README.md"
    }
   ],
   "mimetype": "text/x-octave",
   "name": "octave",
   "version": "4.2.1"
  }
 },
 "nbformat": 4,
 "nbformat_minor": 2
}
