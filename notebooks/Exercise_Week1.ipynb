{
 "cells": [
  {
   "cell_type": "markdown",
   "metadata": {},
   "source": [
    "<center>\n",
    "<h1>เฉลยแบบฝึกหัด Week 1</h1>\n",
    "</center>"
   ]
  },
  {
   "cell_type": "markdown",
   "metadata": {
    "collapsed": true
   },
   "source": [
    "### 1.จงคำนวณหาค่าของฟังก์ชั่น $f(x) = 3x-2$ เมื่อ x มีค่าเท่ากับ -10, -5, 0, 5 และ 10"
   ]
  },
  {
   "cell_type": "code",
   "execution_count": 3,
   "metadata": {},
   "outputs": [
    {
     "name": "stdout",
     "output_type": "stream",
     "text": [
      "x =\n",
      "\n",
      "  -10   -5    0    5   10\n",
      "\n",
      "fx =\n",
      "\n",
      "  -32  -17   -2   13   28\n",
      "\n"
     ]
    }
   ],
   "source": [
    "x = [-10:5:10]\n",
    "fx1 = 3*x-2"
   ]
  },
  {
   "cell_type": "markdown",
   "metadata": {},
   "source": [
    "### 2.จงคำนวนหาค่าฟังก์ชั่น $f(x) = \\frac{2x^2+1}{x^2-3}$ เมื่อ x มีค่าเท่ากับ -5i, -5, 0, 5 และ 5i โดยที่ \n",
    "\n",
    "$$i = \\sqrt{-1}$$"
   ]
  },
  {
   "cell_type": "code",
   "execution_count": 9,
   "metadata": {},
   "outputs": [
    {
     "name": "stdout",
     "output_type": "stream",
     "text": [
      "x2 =\n",
      "\n",
      "  -0 - 5i  -5 + 0i   0 + 0i   0 + 5i\n",
      "\n",
      "fx2 =\n",
      "\n",
      "   1.75000   2.31818  -0.33333   1.75000\n",
      "\n"
     ]
    }
   ],
   "source": [
    "x2 = [-5i, -5, 0, 5i]\n",
    "fx2 = (2*x2.^2 + 1)./(x2.^2 - 3)"
   ]
  },
  {
   "cell_type": "markdown",
   "metadata": {},
   "source": [
    "### 3.จงคำนวนหาค่าฟังก์ชั่น f(x) ต่อไปนี้เมื่อ x = -2i, -2, 0, 2, 2i <br><br>\n",
    "a) $f(x) = \\sqrt{x^3-2x} + \\log{10(|{3x-5}|)}$"
   ]
  },
  {
   "cell_type": "code",
   "execution_count": 19,
   "metadata": {},
   "outputs": [
    {
     "name": "stdout",
     "output_type": "stream",
     "text": [
      "x3 =\n",
      "\n",
      "  -0 - 2i  -2 + 0i   0 + 0i   2 + 0i   0 + 2i\n",
      "\n",
      "fx31 =\n",
      "\n",
      " Columns 1 through 3:\n",
      "\n",
      "   3.34215 + 2.44949i   1.04139 + 2.00000i   0.69897 + 0.00000i\n",
      "\n",
      " Columns 4 and 5:\n",
      "\n",
      "   2.00000 + 0.00000i   3.34215 - 2.44949i\n",
      "\n"
     ]
    }
   ],
   "source": [
    "x3 = [-2i, -2, 0, 2, 2i]\n",
    "term1 = sqrt( x3.^3 - 2*x3 );\n",
    "term2 = log10(abs(3*x3 - 5));\n",
    "fx31 = term1 + term2"
   ]
  },
  {
   "cell_type": "markdown",
   "metadata": {},
   "source": [
    "b) $f(x) = 3e^{x+3} + ln(\\frac{e^x+e^{-x}}{2})$"
   ]
  },
  {
   "cell_type": "code",
   "execution_count": 27,
   "metadata": {},
   "outputs": [
    {
     "name": "stdout",
     "output_type": "stream",
     "text": [
      "fx32 =\n",
      "\n",
      " Columns 1 through 3:\n",
      "\n",
      "   -15.769 -  54.791i    12.462 +   0.000i    60.257 +   0.000i\n",
      "\n",
      " Columns 4 and 5:\n",
      "\n",
      "   449.546 +   0.000i   -15.769 +  54.791i\n",
      "\n"
     ]
    }
   ],
   "source": [
    "term1 = 3*exp(x3 + 3);\n",
    "term2 = log( (exp(x)+exp(-x))/2 );\n",
    "fx32 = term1 + term2"
   ]
  },
  {
   "cell_type": "markdown",
   "metadata": {},
   "source": [
    "### 4. จงใช้ Matlab หาผลคำตอบต่อไปนี้\n",
    "กำหนดให้ <br>\n",
    "$R = 5, r = 3, r_0 = 0.1\\cdot x_{max}, a = 0.81, b = 0.14, c = 1, d = 5, \\theta = 45^\\circ, t = 1,$ และ $ n = 1$\n"
   ]
  },
  {
   "cell_type": "code",
   "execution_count": 30,
   "metadata": {
    "collapsed": true
   },
   "outputs": [],
   "source": [
    "R = 5; r = 3; a = 0.81; b = 0.14; c = 1; d = 5; theta = 45; t = 1; n = 1;"
   ]
  },
  {
   "cell_type": "markdown",
   "metadata": {},
   "source": [
    "a) $x_{max} = \\sqrt{-\\frac{1}{b^2}\\log({2e^{-a^2}}-1)}$"
   ]
  },
  {
   "cell_type": "code",
   "execution_count": 34,
   "metadata": {},
   "outputs": [
    {
     "name": "stdout",
     "output_type": "stream",
     "text": [
      "x_max =  8.5212\n",
      "r_0 =  0.85212\n"
     ]
    }
   ],
   "source": [
    "log_term = log10(2*exp(-a^2)-1);\n",
    "x_max = sqrt(-b^-2*log_term)\n",
    "r_0 = 0.1*x_max"
   ]
  },
  {
   "cell_type": "markdown",
   "metadata": {},
   "source": [
    "b) $x = x_{max}\\cdot sin((\\theta - \\frac{\\pi}{2})\\cdot \\frac{n}{2})$"
   ]
  },
  {
   "cell_type": "code",
   "execution_count": 38,
   "metadata": {},
   "outputs": [
    {
     "name": "stdout",
     "output_type": "stream",
     "text": [
      "x =  2.3266\n"
     ]
    }
   ],
   "source": [
    "sin_term = sin((theta - pi/2)*n/2);\n",
    "x = x_max*sin_term"
   ]
  },
  {
   "cell_type": "markdown",
   "metadata": {},
   "source": [
    "c) $x = (R-r)\\cdot cos(\\theta)+d\\cdot cos(\\frac{R-r}{r}\\cdot \\theta)$"
   ]
  },
  {
   "cell_type": "code",
   "execution_count": 39,
   "metadata": {},
   "outputs": [
    {
     "name": "stdout",
     "output_type": "stream",
     "text": [
      "x =  1.8219\n"
     ]
    }
   ],
   "source": [
    "cos_term = cos(((R-r)/r)*theta);\n",
    "x = (R-r)*cos(theta)+d*cos_term"
   ]
  },
  {
   "cell_type": "markdown",
   "metadata": {},
   "source": [
    "d) $r = r_0 + \\frac{1}{c}\\sqrt{-\\log\\Bigg[ 2e^{-a^2} - e^{-b^2x_{max}^2 sin^2\\bigg(\\big(\\theta - \\frac{\\pi}{2}\\big)\\cdot\\frac{n}{2}\\bigg)}\\Bigg]}$"
   ]
  },
  {
   "cell_type": "code",
   "execution_count": 44,
   "metadata": {},
   "outputs": [
    {
     "name": "stdout",
     "output_type": "stream",
     "text": [
      "log_term1 =  0.85885\n",
      "r =  1.7789\n"
     ]
    }
   ],
   "source": [
    "log_term1 = -log10(2*exp(-a^2)-exp(-b^2*x_max^2*sin((theta-pi/2)*n/2)^2))\n",
    "r = r_0 + c^-1*(sqrt(log_term1))"
   ]
  },
  {
   "cell_type": "markdown",
   "metadata": {},
   "source": [
    "e) $r = cos\\frac{\\pi}{n}\\cdot sec\\bigg( \\theta-\\frac{\\pi}{n}\\big(2\\cdot \\big[ \\frac{n\\theta}{2\\pi}\\big] + 1\\big) \\bigg)$"
   ]
  },
  {
   "cell_type": "code",
   "execution_count": 47,
   "metadata": {},
   "outputs": [
    {
     "name": "stdout",
     "output_type": "stream",
     "text": [
      "sec_term = -1\n",
      "r =  1\n"
     ]
    }
   ],
   "source": [
    "sec_term = sec(theta-(pi/n)*((n*theta/pi)+1))\n",
    "r = cos(pi/n)*sec_term"
   ]
  },
  {
   "cell_type": "markdown",
   "metadata": {},
   "source": [
    "f) $r = 2\\cdot cos\\big(\\frac{\\pi}{2n}\\big)\\cdot sin\\big( \\frac{1}{2}\\cdot\\big( t+\\frac{\\pi}{n}\\cdot\\big( 2\\cdot \\big[ \\frac{nt}{2\\pi} \\big]+1 \\big) \\big) \\big) - sin\\bigg(\\frac{\\pi}{n}\\big(2\\cdot \\big[ \\frac{nt}{2\\pi}\\big] + 1\\big) \\bigg)$"
   ]
  },
  {
   "cell_type": "code",
   "execution_count": 50,
   "metadata": {},
   "outputs": [
    {
     "name": "stdout",
     "output_type": "stream",
     "text": [
      "n_term =  4.1416\n",
      "r =  0.84147\n"
     ]
    }
   ],
   "source": [
    "n_term = (pi/n)*((n*t/pi) + 1)\n",
    "r = 2*cos(pi/2*n)*sin(0.5*(t+n_term))-sin(n_term)"
   ]
  },
  {
   "cell_type": "markdown",
   "metadata": {},
   "source": [
    "### 5. ความสูงและอัตราเร็วของโปรเจคไทร์ เช่น กายินแก๊สน้ำตาขึ้นไปทำมุม A กับแนวระดับ ด้วยความเร็วต้น $V_0$ คือ \n",
    "$$h(t) = V_0t\\cdot sinA-0.5gt^2$$\n",
    "$$V(t) = \\sqrt{V_0^2-2V_0gt\\cdot sinA + g^2t^2}$$ โดยที่ g คือ แรงโน้มถ่วงของโลก โปรเจคไทร์จะแตะพื้นที่ h(t) = 0 และเวลาที่แตะพื้น คือ $t_{hit} = \\frac{2V_0}{g}sin A$ สมมติว่า $A = 30^\\circ, V_0 = 40 m/s$ และ $g = 9.81 m/s^2$ จงหาเวลาที่"
   ]
  },
  {
   "cell_type": "code",
   "execution_count": 54,
   "metadata": {
    "collapsed": true
   },
   "outputs": [],
   "source": [
    "v_0 = 40; A = 30; g = 9.81; t_hit = 2*v_0*sind(A)/g;"
   ]
  },
  {
   "cell_type": "markdown",
   "metadata": {},
   "source": [
    "i. ความสูงมีค่ามากกว่า 15 เมตร"
   ]
  },
  {
   "cell_type": "code",
   "execution_count": 65,
   "metadata": {},
   "outputs": [
    {
     "name": "stdout",
     "output_type": "stream",
     "text": [
      "t_possible =\n",
      "\n",
      "   0   1   2   3   4\n",
      "\n",
      "h_higher15 =\n",
      "\n",
      "    0.00000   15.09500   20.38000   15.85500    1.52000\n",
      "\n",
      "t_ans =\n",
      "\n",
      "   1   2   3\n",
      "\n"
     ]
    }
   ],
   "source": [
    "t_possible = [0:1:t_hit]\n",
    "h_higher15 = v_0.*t_possible*sind(A) - 0.5*g.*t_possible.^2\n",
    "t_ans = [1 2 3]"
   ]
  },
  {
   "cell_type": "markdown",
   "metadata": {},
   "source": [
    "ii. ความสูงมีค่ามากว่า 15 เมตรและความเร็วที่ใช้น้อยกว่า 3 วินาที"
   ]
  },
  {
   "cell_type": "code",
   "execution_count": 71,
   "metadata": {},
   "outputs": [
    {
     "name": "stdout",
     "output_type": "stream",
     "text": [
      "t_possible =\n",
      "\n",
      "   0   1   2   3   4\n",
      "\n",
      "h_higher15 =\n",
      "\n",
      "    0.00000   15.09500   20.38000   15.85500    1.52000\n",
      "\n",
      "v_test =\n",
      "\n",
      "   40.000   36.109   34.643   35.902   39.625\n",
      "\n",
      "t_ans =\n",
      "\n",
      "   1   2\n",
      "\n"
     ]
    }
   ],
   "source": [
    "t_possible\n",
    "h_higher15\n",
    "v_test = sqrt(v_0^2 - 2*v_0*g.*t_possible*sind(A)+g^2.*t_possible.^2)\n",
    "t_ans = [1 2]"
   ]
  },
  {
   "cell_type": "markdown",
   "metadata": {},
   "source": [
    "iii. ความสูงน้อยกว่า 5 เมตร หรือความเร็วมากกว่า 35 m/s"
   ]
  },
  {
   "cell_type": "code",
   "execution_count": 72,
   "metadata": {
    "collapsed": true
   },
   "outputs": [
    {
     "name": "stdout",
     "output_type": "stream",
     "text": [
      "t_ans =\n",
      "\n",
      "   0   1   3   4\n",
      "\n"
     ]
    }
   ],
   "source": [
    "t_ans = [ 0 1 3 4 ]"
   ]
  },
  {
   "cell_type": "markdown",
   "metadata": {},
   "source": [
    "### 6. ความสูง h(t) และระยะทางในแนวระดับของโปรเจคไทร์ x(t) ของลูกบอลที่ขว้างไปในอากาศทำมุม A กับแนวระดับด้วยความเร็ว v คือ\n",
    "\n",
    "$$h(t) = vt\\cdot sin A - \\frac{1}{2}gt^2$$\n",
    "$$x(t) = vt\\cdot cos A$$ \n",
    "โดยที่ g = 9.81 $ m/s^2 $ <br>\n",
    "จงคำนวนความสูง h(t) และความไกล x(t) ว่ามีค่าเท่าใด และหาว่านานเท่าใด ลูกบอลจะตกถึงพื้น สมมติว่าลูกบอลมีความเร็วต้น v = 10 m/s มุม A = $35^\\circ$"
   ]
  },
  {
   "cell_type": "code",
   "execution_count": 74,
   "metadata": {
    "collapsed": true
   },
   "outputs": [],
   "source": [
    "v = 10; A = 35; g = 9.81;"
   ]
  },
  {
   "cell_type": "code",
   "execution_count": 94,
   "metadata": {},
   "outputs": [
    {
     "name": "stdout",
     "output_type": "stream",
     "text": [
      "t =\n",
      "\n",
      " Columns 1 through 8:\n",
      "\n",
      "   0.00000   0.10000   0.20000   0.30000   0.40000   0.50000   0.60000   0.70000\n",
      "\n",
      " Columns 9 through 13:\n",
      "\n",
      "   0.80000   0.90000   1.00000   1.10000   1.20000\n",
      "\n",
      "h_t =\n",
      "\n",
      " Columns 1 through 8:\n",
      "\n",
      "   0.00000   0.52453   0.95095   1.27928   1.50951   1.64163   1.67566   1.61159\n",
      "\n",
      " Columns 9 through 13:\n",
      "\n",
      "   1.44941   1.18914   0.83076   0.37429  -0.18028\n",
      "\n",
      "x_t =\n",
      "\n",
      " Columns 1 through 8:\n",
      "\n",
      "   0.00000   0.81915   1.63830   2.45746   3.27661   4.09576   4.91491   5.73406\n",
      "\n",
      " Columns 9 through 13:\n",
      "\n",
      "   6.55322   7.37237   8.19152   9.01067   9.82982\n",
      "\n",
      "t_hit =  1.1000\n"
     ]
    }
   ],
   "source": [
    "t = [0:0.1:1.2]\n",
    "h_t = v.*t*sind(A)-0.5*g.*t.^2\n",
    "x_t = v.*t*cosd(A)\n",
    "\n",
    "t_hit = 1.1"
   ]
  },
  {
   "cell_type": "markdown",
   "metadata": {},
   "source": [
    "### 7. จากความสัมพันธ์ต่อไปนี้ <br>\n",
    "$$W = k_1x + 2k_2(x - d)$$ <br>\n",
    "กำหนดให้ $k_1 = 10^4 N/m, k_2 = 1.5x10^4 N/m$\n",
    "และ $d = 0.1 m$ <br>\n",
    "จงคำนวนหาระยะ x โดยกำหนดให้ W = 500N และ W = 200N"
   ]
  },
  {
   "cell_type": "code",
   "execution_count": 99,
   "metadata": {
    "collapsed": true
   },
   "outputs": [],
   "source": [
    "k1 = 10^4; k2 = 1.5*10^4; d = 0.1;\n",
    "W = [500 200];"
   ]
  },
  {
   "cell_type": "markdown",
   "metadata": {},
   "source": [
    "จากการแก้สมการจะได้\n",
    "$$ x = \\frac{w+2k_2d}{k_1+2k_2} $$"
   ]
  },
  {
   "cell_type": "code",
   "execution_count": 102,
   "metadata": {},
   "outputs": [
    {
     "name": "stdout",
     "output_type": "stream",
     "text": [
      "x =\n",
      "\n",
      "   0.087500   0.080000\n",
      "\n"
     ]
    }
   ],
   "source": [
    "upper = W + 2*k2*d;\n",
    "lower = k1 + 2*k2;\n",
    "x = upper/lower"
   ]
  }
 ],
 "metadata": {
  "kernelspec": {
   "display_name": "Octave",
   "language": "octave",
   "name": "octave"
  },
  "language_info": {
   "file_extension": ".m",
   "help_links": [
    {
     "text": "GNU Octave",
     "url": "https://www.gnu.org/software/octave/support.html"
    },
    {
     "text": "Octave Kernel",
     "url": "https://github.com/Calysto/octave_kernel"
    },
    {
     "text": "MetaKernel Magics",
     "url": "https://github.com/calysto/metakernel/blob/master/metakernel/magics/README.md"
    }
   ],
   "mimetype": "text/x-octave",
   "name": "octave",
   "version": "4.2.1"
  }
 },
 "nbformat": 4,
 "nbformat_minor": 2
}
