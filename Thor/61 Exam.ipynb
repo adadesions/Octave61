{
 "cells": [
  {
   "cell_type": "markdown",
   "metadata": {},
   "source": [
    "## 1. กาลครั้งหนึ่งนานมาแล้วมีกระต่ายตัวหนึ่ง ยืนอยู่ที่ปลายด้านล่างสุดของบันได( ตีนบันได ) เจ้ากระต่ายตัวนั้นสามารถกระโดดได้ทีละ 1 หรือ 2 ขั้นเท่านั้นในแต่ละครั้ง เพื่อที่จะให้ไปถึงบันไดขั้นสูงสุด จงเขียนฟังก์ชั่น rabbit_hop เพื่อแสดงจำนวนการกระโดดของกระต่ายในบันได n ขั้นที่เป็นไปได้ทั้งหมด\n",
    "\n",
    "ยกตัวอย่างเช่น <br>\n",
    "ถ้าบันไดมี 2 ขั้น กระต่ายจะสามารถกระโดดได้ดังนี้ <br>\n",
    "1-1 <br>\n",
    "2 <br>\n",
    "สำหรับบันได 2 ขั้นเจ้ากระต่ายสามารถกระโดดได้ 2 วิธี <br>\n",
    "\n",
    "ถ้าบันไดมี 4 ขั้น กระต่ายจะสามารถกระโดดได้ดังนี้ <br>\n",
    "1-1-1-1 <br>\n",
    "2-1-1  <br>\n",
    "1-2-1 <br>\n",
    "1-1-2 <br>\n",
    "2-2<br>\n",
    "สำหรับบันได 4 ขั้นเจ้ากระต่ายสามารถกระโดดได้ 5 วิธี <br>\n",
    "\n",
    "input: n เป็นของขั้นบันได ซึ่งเป็นจำนวนนเต็ม <br>\n",
    "output: result เป็นจำนวนวิธีที่กระต่ายสามารถกระโดดได้ทั้งหมด เป็นจำนวนเต็ม<br>\n",
    "\n",
    "Example<br>\n",
    "rabbit_hop(1) --> 1 <br>\n",
    "rabbit_hop(2) --> 2 <br>\n",
    "rabbit_hop(3) --> 3 <br>\n",
    "rabbit_hop(4) --> 5 <br>\n",
    "rabbit_hop(5) --> 8 <br>\n",
    "...<br>\n",
    "rabbit_hop(n) --> rabbit_hop(n-1) + rabbit_hop(n-2) //hint\n"
   ]
  },
  {
   "cell_type": "markdown",
   "metadata": {},
   "source": [
    "# 2. จงเขียนฟังก์ชั่น myTransformation จาก Matrix 2 มิติ เป็น Matrix 1 มิติ ด้วย Snake Scan\n",
    "โดย มีเงื่อนไขดังนี้\n",
    "1. Matrix 2 มิติ จะต้องมีแถวและหลักเท่ากัน หรือขนาดเป็น nxn \n",
    "2. เริ่มต้นที่ตำแหน่ง (1, 1) เสมอ\n",
    "\n",
    "<img src=\"./snake.png\" />\n",
    "\n",
    "ตัวอย่างที่ 1 <br>\n",
    "Matrix A1 ขนาด 2x2\n",
    "$$A1 = \\begin{bmatrix}\n",
    "    1 & 2\\\\\n",
    "    3 & 4\\\\\n",
    "\\end{bmatrix}$$\n",
    "\n",
    "myTransform(A1) ผลลัพท์ที่ต้องได้ คือ <br>\n",
    "$$AT1 = \\begin{bmatrix}\n",
    "    1 & 2 & 4 & 3\n",
    "\\end{bmatrix}$$\n",
    "\n",
    "\n",
    "ตัวอย่างที่ 2 <br>\n",
    "Matrix A2 ขนาด 3x3\n",
    "$$A2 = \\begin{bmatrix}\n",
    "    1 & 2 & 3\\\\\n",
    "    4 & 5 & 6\\\\\n",
    "    7 & 8 & 9\\\\\n",
    "\\end{bmatrix}$$\n",
    "\n",
    "myTransform(A2) ผลลัพท์ที่ต้องได้ คือ <br>\n",
    "$$AT2 = \\begin{bmatrix}\n",
    "    1 & 2 & 3 & 6 & 5 & 4 & 7 & 8 & 9\n",
    "\\end{bmatrix}$$"
   ]
  }
 ],
 "metadata": {
  "kernelspec": {
   "display_name": "Octave",
   "language": "octave",
   "name": "octave"
  },
  "language_info": {
   "file_extension": ".m",
   "help_links": [
    {
     "text": "GNU Octave",
     "url": "https://www.gnu.org/software/octave/support.html"
    },
    {
     "text": "Octave Kernel",
     "url": "https://github.com/Calysto/octave_kernel"
    },
    {
     "text": "MetaKernel Magics",
     "url": "https://github.com/calysto/metakernel/blob/master/metakernel/magics/README.md"
    }
   ],
   "mimetype": "text/x-octave",
   "name": "octave",
   "version": "4.2.1"
  }
 },
 "nbformat": 4,
 "nbformat_minor": 2
}
